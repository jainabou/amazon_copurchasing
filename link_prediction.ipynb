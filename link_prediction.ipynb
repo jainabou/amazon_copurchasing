{
 "cells": [
  {
   "cell_type": "markdown",
   "metadata": {},
   "source": [
    "# SI608 Final Project Link Prediction "
   ]
  },
  {
   "cell_type": "code",
   "execution_count": 2,
   "metadata": {},
   "outputs": [],
   "source": [
    "#import packages\n",
    "import pandas as pd\n",
    "import networkx as nx\n",
    "import plotly.graph_objects as go\n",
    "import matplotlib.pyplot as plt\n",
    "import numpy as np\n",
    "import seaborn as sns\n",
    "import warnings\n",
    "warnings.filterwarnings(\"ignore\")"
   ]
  },
  {
   "cell_type": "markdown",
   "metadata": {},
   "source": [
    "#### Import attribute and co-purchase information"
   ]
  },
  {
   "cell_type": "code",
   "execution_count": 3,
   "metadata": {},
   "outputs": [],
   "source": [
    "#copurchasing graph with weights as the catergory similarity of the products\n",
    "fhr = open('amazon_co.edgelist', \"rb\")\n",
    "G = nx.read_weighted_edgelist(fhr)\n",
    "fhr.close()"
   ]
  },
  {
   "cell_type": "code",
   "execution_count": 4,
   "metadata": {},
   "outputs": [
    {
     "name": "stdout",
     "output_type": "stream",
     "text": [
      "Name: \n",
      "Type: Graph\n",
      "Number of nodes: 366997\n",
      "Number of edges: 987942\n",
      "Average degree:   5.3839\n"
     ]
    }
   ],
   "source": [
    "#graph basic stats\n",
    "print(nx.info(G))"
   ]
  },
  {
   "cell_type": "code",
   "execution_count": 6,
   "metadata": {},
   "outputs": [
    {
     "data": {
      "text/plain": [
       "False"
      ]
     },
     "execution_count": 6,
     "metadata": {},
     "output_type": "execute_result"
    }
   ],
   "source": [
    "#check if graph is directed or undirected \n",
    "G.is_directed()"
   ]
  },
  {
   "cell_type": "code",
   "execution_count": 8,
   "metadata": {},
   "outputs": [
    {
     "data": {
      "text/plain": [
       "5.38392411927073"
      ]
     },
     "execution_count": 8,
     "metadata": {},
     "output_type": "execute_result"
    }
   ],
   "source": [
    "#manually checking degree calculation since it is a undirected graph \n",
    "2*G.number_of_edges() / float(G.number_of_nodes())"
   ]
  },
  {
   "cell_type": "code",
   "execution_count": 148,
   "metadata": {},
   "outputs": [],
   "source": [
    "#import metadata to get the more node information\n",
    "meta = pd.read_csv('meta.csv', usecols=['ASIN','Id','Copurchased', 'Group','Categories', 'SalesRank', 'TotalReviews', 'AvgRating', 'DegreeCentrality', 'ClusteringCoeff'] )"
   ]
  },
  {
   "cell_type": "code",
   "execution_count": 149,
   "metadata": {},
   "outputs": [
    {
     "data": {
      "text/html": [
       "<div>\n",
       "<style scoped>\n",
       "    .dataframe tbody tr th:only-of-type {\n",
       "        vertical-align: middle;\n",
       "    }\n",
       "\n",
       "    .dataframe tbody tr th {\n",
       "        vertical-align: top;\n",
       "    }\n",
       "\n",
       "    .dataframe thead th {\n",
       "        text-align: right;\n",
       "    }\n",
       "</style>\n",
       "<table border=\"1\" class=\"dataframe\">\n",
       "  <thead>\n",
       "    <tr style=\"text-align: right;\">\n",
       "      <th></th>\n",
       "      <th>ASIN</th>\n",
       "      <th>Id</th>\n",
       "      <th>Categories</th>\n",
       "      <th>Group</th>\n",
       "      <th>Copurchased</th>\n",
       "      <th>SalesRank</th>\n",
       "      <th>TotalReviews</th>\n",
       "      <th>AvgRating</th>\n",
       "      <th>DegreeCentrality</th>\n",
       "      <th>ClusteringCoeff</th>\n",
       "    </tr>\n",
       "  </thead>\n",
       "  <tbody>\n",
       "    <tr>\n",
       "      <td>0</td>\n",
       "      <td>0771044445</td>\n",
       "      <td>0</td>\n",
       "      <td>NaN</td>\n",
       "      <td>NaN</td>\n",
       "      <td>NaN</td>\n",
       "      <td>0</td>\n",
       "      <td>0</td>\n",
       "      <td>0.0</td>\n",
       "      <td>0</td>\n",
       "      <td>0.00</td>\n",
       "    </tr>\n",
       "    <tr>\n",
       "      <td>1</td>\n",
       "      <td>0827229534</td>\n",
       "      <td>1</td>\n",
       "      <td>subject religion sermon book preach christian ...</td>\n",
       "      <td>Book</td>\n",
       "      <td>0804215715 156101074X 0687023955 0687074231 08...</td>\n",
       "      <td>396585</td>\n",
       "      <td>2</td>\n",
       "      <td>5.0</td>\n",
       "      <td>8</td>\n",
       "      <td>0.80</td>\n",
       "    </tr>\n",
       "    <tr>\n",
       "      <td>2</td>\n",
       "      <td>0738700797</td>\n",
       "      <td>2</td>\n",
       "      <td>wicca earth subject religion base book witchcr...</td>\n",
       "      <td>Book</td>\n",
       "      <td>0738700827 1567184960 1567182836 0738700525 07...</td>\n",
       "      <td>168596</td>\n",
       "      <td>12</td>\n",
       "      <td>4.5</td>\n",
       "      <td>9</td>\n",
       "      <td>0.85</td>\n",
       "    </tr>\n",
       "    <tr>\n",
       "      <td>3</td>\n",
       "      <td>0486287785</td>\n",
       "      <td>3</td>\n",
       "      <td>home subject garden book craft general hobbi</td>\n",
       "      <td>Book</td>\n",
       "      <td>NaN</td>\n",
       "      <td>1270652</td>\n",
       "      <td>1</td>\n",
       "      <td>5.0</td>\n",
       "      <td>0</td>\n",
       "      <td>0.00</td>\n",
       "    </tr>\n",
       "    <tr>\n",
       "      <td>4</td>\n",
       "      <td>0842328327</td>\n",
       "      <td>4</td>\n",
       "      <td>bibl testament live applic life new studi gene...</td>\n",
       "      <td>Book</td>\n",
       "      <td>0842328130 0842330313 0842328610 0842328572</td>\n",
       "      <td>631289</td>\n",
       "      <td>1</td>\n",
       "      <td>4.0</td>\n",
       "      <td>6</td>\n",
       "      <td>0.79</td>\n",
       "    </tr>\n",
       "  </tbody>\n",
       "</table>\n",
       "</div>"
      ],
      "text/plain": [
       "         ASIN  Id                                         Categories Group  \\\n",
       "0  0771044445   0                                                NaN   NaN   \n",
       "1  0827229534   1  subject religion sermon book preach christian ...  Book   \n",
       "2  0738700797   2  wicca earth subject religion base book witchcr...  Book   \n",
       "3  0486287785   3       home subject garden book craft general hobbi  Book   \n",
       "4  0842328327   4  bibl testament live applic life new studi gene...  Book   \n",
       "\n",
       "                                         Copurchased  SalesRank  TotalReviews  \\\n",
       "0                                                NaN          0             0   \n",
       "1  0804215715 156101074X 0687023955 0687074231 08...     396585             2   \n",
       "2  0738700827 1567184960 1567182836 0738700525 07...     168596            12   \n",
       "3                                                NaN    1270652             1   \n",
       "4        0842328130 0842330313 0842328610 0842328572     631289             1   \n",
       "\n",
       "   AvgRating  DegreeCentrality  ClusteringCoeff  \n",
       "0        0.0                 0             0.00  \n",
       "1        5.0                 8             0.80  \n",
       "2        4.5                 9             0.85  \n",
       "3        5.0                 0             0.00  \n",
       "4        4.0                 6             0.79  "
      ]
     },
     "execution_count": 149,
     "metadata": {},
     "output_type": "execute_result"
    }
   ],
   "source": [
    "meta.head()"
   ]
  },
  {
   "cell_type": "code",
   "execution_count": 197,
   "metadata": {},
   "outputs": [],
   "source": [
    "#change categories that are NaN to none\n",
    "meta['Categories'].fillna('none', inplace=True)"
   ]
  },
  {
   "cell_type": "code",
   "execution_count": 12,
   "metadata": {},
   "outputs": [],
   "source": [
    "#obtain subset of dataframe with ASIN, group, SalesRank, and AvgRating\n",
    "meta_att=meta[['ASIN', 'Group', 'SalesRank', 'AvgRating']]\n",
    "node_attr = meta_att.set_index('ASIN').to_dict('index')\n",
    "nx.set_node_attributes(G, node_attr)"
   ]
  },
  {
   "cell_type": "code",
   "execution_count": 13,
   "metadata": {},
   "outputs": [
    {
     "data": {
      "text/plain": [
       "{'Group': 'Book', 'SalesRank': 396585, 'AvgRating': 5.0}"
      ]
     },
     "execution_count": 13,
     "metadata": {},
     "output_type": "execute_result"
    }
   ],
   "source": [
    "#sanity check\n",
    "G.nodes['0827229534']"
   ]
  },
  {
   "cell_type": "markdown",
   "metadata": {},
   "source": [
    "#### Obtain edgelist for existing links"
   ]
  },
  {
   "cell_type": "code",
   "execution_count": 123,
   "metadata": {},
   "outputs": [],
   "source": [
    "#obtain co_purchased edgelist\n",
    "df_co = nx.to_pandas_edgelist(G)"
   ]
  },
  {
   "cell_type": "code",
   "execution_count": 124,
   "metadata": {},
   "outputs": [],
   "source": [
    "#create row \"connection\" set to 1 \n",
    "df_co['connection']=1\n",
    "#create tuple of source and target to get network attributes\n",
    "df_co['nodes']=list(zip(df_co.source, df_co.target))"
   ]
  },
  {
   "cell_type": "markdown",
   "metadata": {},
   "source": [
    "#### Generate list of non-existing co-purchases"
   ]
  },
  {
   "cell_type": "code",
   "execution_count": 125,
   "metadata": {},
   "outputs": [],
   "source": [
    "#obtain list ppf co existing connections and values\n",
    "c=pd.Series(df_co.connection.values,index=df_co.nodes).to_dict()\n",
    "\n",
    "#obtain list of nodes\n",
    "nodes=list(G.nodes)"
   ]
  },
  {
   "cell_type": "code",
   "execution_count": 126,
   "metadata": {},
   "outputs": [],
   "source": [
    "#function to create missing edges for testing purposes\n",
    "import random\n",
    "\n",
    "def missing_random(exist_con, nodes, num):\n",
    "    \n",
    "    missing_edges = set([])\n",
    "    while (len(missing_edges)<num):\n",
    "        a=str(random.choice(nodes))\n",
    "        b=str(random.choice(nodes))\n",
    "        #check if edge exist between the two nodes, if not set to 0\n",
    "        conn=exist_con.get((a,b),0)\n",
    "        if conn==0 and a!=b:\n",
    "            missing_edges.add((a,b))\n",
    "        else:\n",
    "            continue   \n",
    "   \n",
    "    return missing_edges"
   ]
  },
  {
   "cell_type": "code",
   "execution_count": 127,
   "metadata": {},
   "outputs": [],
   "source": [
    "#generate 500,000 missing connections\n",
    "missing_generated=missing_random(c, nodes, 500000)"
   ]
  },
  {
   "cell_type": "code",
   "execution_count": 199,
   "metadata": {},
   "outputs": [],
   "source": [
    "#categories for nodes\n",
    "node_cat = dict(zip(meta.ASIN, meta.Categories))"
   ]
  },
  {
   "cell_type": "code",
   "execution_count": 208,
   "metadata": {},
   "outputs": [],
   "source": [
    "#calculate the 'weight' indicating the similarity of categories for the items\n",
    "missing_sim=[]\n",
    "\n",
    "for a,b in missing_generated:\n",
    "#     print(b)\n",
    "    similarity = 0\n",
    "    n1 = set((node_cat[a].split()))\n",
    "    n2 = set((node_cat[b]).split())\n",
    "    n1In2 = n1 & n2     # intersection \n",
    "    n1Un2 = n1 | n2     # union \n",
    "    if(len(n1Un2)) > 0:\n",
    "        similarity = round(len(n1In2)/len(n1Un2), 2)\n",
    "    missing_sim.append(similarity)"
   ]
  },
  {
   "cell_type": "code",
   "execution_count": 209,
   "metadata": {},
   "outputs": [],
   "source": [
    "#create a dataframe from the missing generated\n",
    "df_miss=pd.DataFrame(missing_generated, columns=['source', 'target'])\n",
    "#make connection equal to 0 and and weight equal to the similarity scores \n",
    "df_miss['weight']=missing_sim\n",
    "df_miss['connection']=0\n",
    "df_miss['nodes']=list(zip(df_miss.source, df_miss.target))"
   ]
  },
  {
   "cell_type": "code",
   "execution_count": 210,
   "metadata": {},
   "outputs": [
    {
     "data": {
      "text/plain": [
       "((500000, 5), (987942, 8))"
      ]
     },
     "execution_count": 210,
     "metadata": {},
     "output_type": "execute_result"
    }
   ],
   "source": [
    "df_miss.shape, df_co.shape"
   ]
  },
  {
   "cell_type": "markdown",
   "metadata": {},
   "source": [
    "#### Obtain Network Stats for links to non-existing links"
   ]
  },
  {
   "cell_type": "code",
   "execution_count": 212,
   "metadata": {},
   "outputs": [],
   "source": [
    "#obtain network stats for the pair of nodes\n",
    "\n",
    "#add jaccard_coefficent to network dataframe, will be 0 for non-connecting nodes\n",
    "df_miss['jac_coe']=0\n",
    "\n",
    "#add resource allocation to network dataframe, will be 0 for non-connecting nodes\n",
    "df_miss['resource_a'] = 0\n",
    "\n",
    "#add preferential attachment to network dataframe\n",
    "pa = nx.preferential_attachment(G, ebunch=df_miss['nodes'].tolist())\n",
    "pa = pd.DataFrame(pa)\n",
    "df_miss['pref_a'] = pa[2]\n"
   ]
  },
  {
   "cell_type": "markdown",
   "metadata": {},
   "source": [
    "#### Obtain Network Stats for links to existing links"
   ]
  },
  {
   "cell_type": "code",
   "execution_count": 131,
   "metadata": {},
   "outputs": [],
   "source": [
    "#obtain network stats for the pair of nodes\n",
    "\n",
    "#add jaccard_coefficent to network dataframe\n",
    "jc=nx.jaccard_coefficient(G, ebunch=df_co['nodes'].tolist())\n",
    "jc = pd.DataFrame(jc)\n",
    "df_co['jac_coe']=jc[2]\n",
    "\n",
    "#add resource allocation to network dataframe\n",
    "ra = nx.resource_allocation_index(G, ebunch=df_co['nodes'].tolist())\n",
    "ra = pd.DataFrame(ra)\n",
    "df_co['resource_a'] = ra[2]\n",
    "\n",
    "#add preferential attachment to network dataframe\n",
    "pa = nx.preferential_attachment(G, ebunch=df_co['nodes'].tolist())\n",
    "pa = pd.DataFrame(pa)\n",
    "df_co['pref_a'] = pa[2]\n"
   ]
  },
  {
   "cell_type": "markdown",
   "metadata": {},
   "source": [
    "#### Combine dataframes"
   ]
  },
  {
   "cell_type": "code",
   "execution_count": 213,
   "metadata": {},
   "outputs": [],
   "source": [
    "#combine both dataframes\n",
    "df_all=df_miss.append(df_co, ignore_index=True)"
   ]
  },
  {
   "cell_type": "code",
   "execution_count": 223,
   "metadata": {},
   "outputs": [],
   "source": [
    "#add the salesrank to dataframe\n",
    "sale_cat = dict(zip(meta.ASIN, meta.SalesRank))"
   ]
  },
  {
   "cell_type": "code",
   "execution_count": 228,
   "metadata": {},
   "outputs": [],
   "source": [
    "total_rank=[]\n",
    "all_nodes=df_all['nodes'].tolist()\n",
    "\n",
    "for i in all_nodes:\n",
    "    sale_add=sale_cat[i[0]]+sale_cat[i[1]]\n",
    "    total_rank.append(sale_add)\n",
    "\n",
    "df_all['sale_rank']=total_rank"
   ]
  },
  {
   "cell_type": "code",
   "execution_count": 230,
   "metadata": {},
   "outputs": [
    {
     "data": {
      "text/plain": [
       "(1487942, 9)"
      ]
     },
     "execution_count": 230,
     "metadata": {},
     "output_type": "execute_result"
    }
   ],
   "source": [
    "df_all.shape"
   ]
  },
  {
   "cell_type": "code",
   "execution_count": 229,
   "metadata": {},
   "outputs": [
    {
     "data": {
      "text/html": [
       "<div>\n",
       "<style scoped>\n",
       "    .dataframe tbody tr th:only-of-type {\n",
       "        vertical-align: middle;\n",
       "    }\n",
       "\n",
       "    .dataframe tbody tr th {\n",
       "        vertical-align: top;\n",
       "    }\n",
       "\n",
       "    .dataframe thead th {\n",
       "        text-align: right;\n",
       "    }\n",
       "</style>\n",
       "<table border=\"1\" class=\"dataframe\">\n",
       "  <thead>\n",
       "    <tr style=\"text-align: right;\">\n",
       "      <th></th>\n",
       "      <th>source</th>\n",
       "      <th>target</th>\n",
       "      <th>weight</th>\n",
       "      <th>connection</th>\n",
       "      <th>nodes</th>\n",
       "      <th>jac_coe</th>\n",
       "      <th>resource_a</th>\n",
       "      <th>pref_a</th>\n",
       "      <th>sale_rank</th>\n",
       "    </tr>\n",
       "  </thead>\n",
       "  <tbody>\n",
       "    <tr>\n",
       "      <td>0</td>\n",
       "      <td>0375409378</td>\n",
       "      <td>B00008OM2C</td>\n",
       "      <td>0.06</td>\n",
       "      <td>0</td>\n",
       "      <td>(0375409378, B00008OM2C)</td>\n",
       "      <td>0.0</td>\n",
       "      <td>0.0</td>\n",
       "      <td>5</td>\n",
       "      <td>814862</td>\n",
       "    </tr>\n",
       "    <tr>\n",
       "      <td>1</td>\n",
       "      <td>0440412862</td>\n",
       "      <td>0399230211</td>\n",
       "      <td>0.27</td>\n",
       "      <td>0</td>\n",
       "      <td>(0440412862, 0399230211)</td>\n",
       "      <td>0.0</td>\n",
       "      <td>0.0</td>\n",
       "      <td>30</td>\n",
       "      <td>743650</td>\n",
       "    </tr>\n",
       "    <tr>\n",
       "      <td>2</td>\n",
       "      <td>185149037X</td>\n",
       "      <td>0814405185</td>\n",
       "      <td>0.14</td>\n",
       "      <td>0</td>\n",
       "      <td>(185149037X, 0814405185)</td>\n",
       "      <td>0.0</td>\n",
       "      <td>0.0</td>\n",
       "      <td>9</td>\n",
       "      <td>940733</td>\n",
       "    </tr>\n",
       "    <tr>\n",
       "      <td>3</td>\n",
       "      <td>0671670476</td>\n",
       "      <td>1858285542</td>\n",
       "      <td>0.12</td>\n",
       "      <td>0</td>\n",
       "      <td>(0671670476, 1858285542)</td>\n",
       "      <td>0.0</td>\n",
       "      <td>0.0</td>\n",
       "      <td>20</td>\n",
       "      <td>1513131</td>\n",
       "    </tr>\n",
       "    <tr>\n",
       "      <td>4</td>\n",
       "      <td>052100926X</td>\n",
       "      <td>0312206399</td>\n",
       "      <td>0.18</td>\n",
       "      <td>0</td>\n",
       "      <td>(052100926X, 0312206399)</td>\n",
       "      <td>0.0</td>\n",
       "      <td>0.0</td>\n",
       "      <td>18</td>\n",
       "      <td>326816</td>\n",
       "    </tr>\n",
       "  </tbody>\n",
       "</table>\n",
       "</div>"
      ],
      "text/plain": [
       "       source      target  weight  connection                     nodes  \\\n",
       "0  0375409378  B00008OM2C    0.06           0  (0375409378, B00008OM2C)   \n",
       "1  0440412862  0399230211    0.27           0  (0440412862, 0399230211)   \n",
       "2  185149037X  0814405185    0.14           0  (185149037X, 0814405185)   \n",
       "3  0671670476  1858285542    0.12           0  (0671670476, 1858285542)   \n",
       "4  052100926X  0312206399    0.18           0  (052100926X, 0312206399)   \n",
       "\n",
       "   jac_coe  resource_a  pref_a  sale_rank  \n",
       "0      0.0         0.0       5     814862  \n",
       "1      0.0         0.0      30     743650  \n",
       "2      0.0         0.0       9     940733  \n",
       "3      0.0         0.0      20    1513131  \n",
       "4      0.0         0.0      18     326816  "
      ]
     },
     "execution_count": 229,
     "metadata": {},
     "output_type": "execute_result"
    }
   ],
   "source": [
    "df_all.head()"
   ]
  },
  {
   "cell_type": "code",
   "execution_count": 242,
   "metadata": {},
   "outputs": [
    {
     "data": {
      "image/png": "[encoded data removed]",
      "text/plain": [
       "<Figure size 432x288 with 1 Axes>"
      ]
     },
     "metadata": {
      "needs_background": "light"
     },
     "output_type": "display_data"
    }
   ],
   "source": [
    "#regression plot\n",
    "ax = sns.regplot(x=\"weight\", y=\"connection\", data=df_all)"
   ]
  },
  {
   "cell_type": "markdown",
   "metadata": {},
   "source": [
    "> I selected these features for the group of nodes because they highlight the similarity of distance and who they attach to, which can be good predictors for future links"
   ]
  },
  {
   "cell_type": "markdown",
   "metadata": {},
   "source": [
    "#### Baseline Link Prediction Models with only SalesRank"
   ]
  },
  {
   "cell_type": "code",
   "execution_count": 239,
   "metadata": {},
   "outputs": [],
   "source": [
    "#create test train spilt\n",
    "from sklearn.model_selection import train_test_split\n",
    "\n",
    "X_train, X_test, y_train, y_test = train_test_split(df_all[['sale_rank']],df_all['connection'].astype(int),stratify=df_all['connection'].astype(int),random_state=0)"
   ]
  },
  {
   "cell_type": "code",
   "execution_count": 232,
   "metadata": {},
   "outputs": [
    {
     "name": "stdout",
     "output_type": "stream",
     "text": [
      "Logistic Regression AUC ROC Score:  0.5\n",
      "Logistic Regression Accuracy Score:  0.6639658481770819\n"
     ]
    }
   ],
   "source": [
    "#logistic Regression\n",
    "from sklearn.linear_model import LogisticRegression\n",
    "from sklearn import metrics\n",
    "\n",
    "logreg = LogisticRegression(solver='lbfgs').fit(X_train, y_train)\n",
    "lr_pred = logreg.predict(X_test)\n",
    "\n",
    "print('Logistic Regression AUC ROC Score: ', metrics.roc_auc_score(y_test,lr_pred))\n",
    "print('Logistic Regression Accuracy Score: ', metrics.accuracy_score(y_test,lr_pred))"
   ]
  },
  {
   "cell_type": "code",
   "execution_count": 240,
   "metadata": {},
   "outputs": [
    {
     "name": "stdout",
     "output_type": "stream",
     "text": [
      "GBC Classifier AUC ROC Score:  0.5122523322617476\n",
      "GBC Classifier Accuracy Score:  0.6653637502486652\n"
     ]
    }
   ],
   "source": [
    "#gbc\n",
    "from sklearn.ensemble import GradientBoostingClassifier\n",
    "\n",
    "gbc=GradientBoostingClassifier().fit(X_train, y_train)\n",
    "gbc_pred=gbc.predict(X_test)\n",
    "\n",
    "print('GBC Classifier AUC ROC Score: ', metrics.roc_auc_score(y_test,gbc_pred))\n",
    "print('GBC Classifier Accuracy Score: ', gbc.score(X_test, y_test))"
   ]
  },
  {
   "cell_type": "code",
   "execution_count": 241,
   "metadata": {},
   "outputs": [
    {
     "name": "stdout",
     "output_type": "stream",
     "text": [
      "RFC Classifier AUC ROC Score:  0.5285713148437563\n",
      "RFC Classifier Accuracy Score:  0.583798852644992\n"
     ]
    }
   ],
   "source": [
    "#Random Forest\n",
    "from sklearn.ensemble import RandomForestClassifier\n",
    "\n",
    "rfc = RandomForestClassifier(random_state=0, n_jobs=-1).fit(X_train, y_train)\n",
    "rfc_pred = rfc.predict(X_test)\n",
    "\n",
    "print('RFC Classifier AUC ROC Score: ', metrics.roc_auc_score(y_test,rfc_pred))\n",
    "print('RFC Classifier Accuracy Score: ', rfc.score(X_test, y_test))"
   ]
  },
  {
   "cell_type": "markdown",
   "metadata": {},
   "source": [
    "#### Link Prediction Models with network attributes"
   ]
  },
  {
   "cell_type": "code",
   "execution_count": 233,
   "metadata": {},
   "outputs": [],
   "source": [
    "#create test train spilt\n",
    "from sklearn.model_selection import train_test_split\n",
    "\n",
    "X_train, X_test, y_train, y_test = train_test_split(df_all[['jac_coe', 'resource_a','pref_a', 'weight', 'sale_rank' ]],df_all['connection'].astype(int),stratify=df_all['connection'].astype(int),random_state=0)"
   ]
  },
  {
   "cell_type": "code",
   "execution_count": 234,
   "metadata": {},
   "outputs": [
    {
     "name": "stdout",
     "output_type": "stream",
     "text": [
      "Logistic Regression AUC ROC Score:  0.6382381352465323\n",
      "Logistic Regression Accuracy Score:  0.7276107165323427\n"
     ]
    }
   ],
   "source": [
    "#logistic Regression\n",
    "from sklearn.linear_model import LogisticRegression\n",
    "from sklearn import metrics\n",
    "\n",
    "logreg = LogisticRegression(solver='lbfgs').fit(X_train, y_train)\n",
    "lr_pred = logreg.predict(X_test)\n",
    "\n",
    "print('Logistic Regression AUC ROC Score: ', metrics.roc_auc_score(y_test,lr_pred))\n",
    "print('Logistic Regression Accuracy Score: ', metrics.accuracy_score(y_test,lr_pred))"
   ]
  },
  {
   "cell_type": "code",
   "execution_count": 238,
   "metadata": {},
   "outputs": [
    {
     "name": "stdout",
     "output_type": "stream",
     "text": [
      "GBC Classifier AUC ROC Score:  0.9496455169118898\n",
      "GBC Classifier Accuracy Score:  0.9503556585462893\n"
     ]
    }
   ],
   "source": [
    "#gbc\n",
    "from sklearn.ensemble import GradientBoostingClassifier\n",
    "\n",
    "gbc=GradientBoostingClassifier().fit(X_train, y_train)\n",
    "gbc_pred=gbc.predict(X_test)\n",
    "\n",
    "print('GBC Classifier AUC ROC Score: ', metrics.roc_auc_score(y_test,gbc_pred))\n",
    "print('GBC Classifier Accuracy Score: ', gbc.score(X_test, y_test))"
   ]
  },
  {
   "cell_type": "code",
   "execution_count": 236,
   "metadata": {},
   "outputs": [
    {
     "name": "stdout",
     "output_type": "stream",
     "text": [
      "RFC Classifier AUC ROC Score:  0.931515150300017\n",
      "RFC Classifier Accuracy Score:  0.9360836160500664\n"
     ]
    }
   ],
   "source": [
    "#Random Forest\n",
    "from sklearn.ensemble import RandomForestClassifier\n",
    "\n",
    "rfc = RandomForestClassifier(random_state=0, n_jobs=-1).fit(X_train, y_train)\n",
    "rfc_pred = rfc.predict(X_test)\n",
    "\n",
    "print('RFC Classifier AUC ROC Score: ', metrics.roc_auc_score(y_test,rfc_pred))\n",
    "print('RFC Classifier Accuracy Score: ', rfc.score(X_test, y_test))"
   ]
  },
  {
   "cell_type": "code",
   "execution_count": 237,
   "metadata": {},
   "outputs": [
    {
     "data": {
      "text/html": [
       "<div>\n",
       "<style scoped>\n",
       "    .dataframe tbody tr th:only-of-type {\n",
       "        vertical-align: middle;\n",
       "    }\n",
       "\n",
       "    .dataframe tbody tr th {\n",
       "        vertical-align: top;\n",
       "    }\n",
       "\n",
       "    .dataframe thead th {\n",
       "        text-align: right;\n",
       "    }\n",
       "</style>\n",
       "<table border=\"1\" class=\"dataframe\">\n",
       "  <thead>\n",
       "    <tr style=\"text-align: right;\">\n",
       "      <th></th>\n",
       "      <th>importance</th>\n",
       "    </tr>\n",
       "  </thead>\n",
       "  <tbody>\n",
       "    <tr>\n",
       "      <td>weight</td>\n",
       "      <td>0.378505</td>\n",
       "    </tr>\n",
       "    <tr>\n",
       "      <td>resource_a</td>\n",
       "      <td>0.247455</td>\n",
       "    </tr>\n",
       "    <tr>\n",
       "      <td>jac_coe</td>\n",
       "      <td>0.161392</td>\n",
       "    </tr>\n",
       "    <tr>\n",
       "      <td>sale_rank</td>\n",
       "      <td>0.146720</td>\n",
       "    </tr>\n",
       "    <tr>\n",
       "      <td>pref_a</td>\n",
       "      <td>0.065929</td>\n",
       "    </tr>\n",
       "  </tbody>\n",
       "</table>\n",
       "</div>"
      ],
      "text/plain": [
       "            importance\n",
       "weight        0.378505\n",
       "resource_a    0.247455\n",
       "jac_coe       0.161392\n",
       "sale_rank     0.146720\n",
       "pref_a        0.065929"
      ]
     },
     "execution_count": 237,
     "metadata": {},
     "output_type": "execute_result"
    }
   ],
   "source": [
    "#Determine Important Features\n",
    "feature_importances = pd.DataFrame(rfc.feature_importances_,\n",
    "                                   index = X_train.columns,\n",
    "                                    columns=['importance']).sort_values('importance', ascending=False)\n",
    "feature_importances.head()"
   ]
  }
 ],
 "metadata": {
  "kernelspec": {
   "display_name": "Python 3",
   "language": "python",
   "name": "python3"
  },
  "language_info": {
   "codemirror_mode": {
    "name": "ipython",
    "version": 3
   },
   "file_extension": ".py",
   "mimetype": "text/x-python",
   "name": "python",
   "nbconvert_exporter": "python",
   "pygments_lexer": "ipython3",
   "version": "3.7.4"
  }
 },
 "nbformat": 4,
 "nbformat_minor": 4
}
